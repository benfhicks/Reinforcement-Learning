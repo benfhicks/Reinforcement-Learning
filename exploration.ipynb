{
 "cells": [
  {
   "cell_type": "code",
   "execution_count": 1,
   "metadata": {},
   "outputs": [],
   "source": [
    "from src.board_games import noughts_and_crosses\n",
    "import numpy as np\n",
    "import torch\n",
    "from torch import nn\n",
    "from torch.utils.data import DataLoader, random_split, TensorDataset\n",
    "from sklearn.metrics import accuracy_score"
   ]
  },
  {
   "cell_type": "code",
   "execution_count": 2,
   "metadata": {},
   "outputs": [],
   "source": [
    "game = noughts_and_crosses.Game()"
   ]
  },
  {
   "cell_type": "code",
   "execution_count": 3,
   "metadata": {},
   "outputs": [
    {
     "data": {
      "text/plain": [
       "array([[0, 0, 0],\n",
       "       [0, 0, 0],\n",
       "       [0, 0, 0]])"
      ]
     },
     "execution_count": 3,
     "metadata": {},
     "output_type": "execute_result"
    }
   ],
   "source": [
    "game.board"
   ]
  },
  {
   "cell_type": "code",
   "execution_count": 4,
   "metadata": {},
   "outputs": [],
   "source": [
    "game.clear_board()"
   ]
  },
  {
   "cell_type": "code",
   "execution_count": 5,
   "metadata": {},
   "outputs": [],
   "source": [
    "game._simulate_random_game(display=False, n=25000)"
   ]
  },
  {
   "cell_type": "code",
   "execution_count": 6,
   "metadata": {},
   "outputs": [
    {
     "name": "stdout",
     "output_type": "stream",
     "text": [
      "--------------------------------\n",
      "             \n",
      "Total games:\t25000\n",
      "             \n",
      "--------------------------------\n",
      "             \n",
      "Player 1 wins:\t14446\t(57.78%)\n",
      "             \n",
      "Player 2 wins:\t7357\t(29.43%)\n",
      "             \n",
      "Draws:\t\t3197\t(12.79%)\n",
      "             \n",
      "--------------------------------\n"
     ]
    }
   ],
   "source": [
    "game.game_statistics()"
   ]
  },
  {
   "cell_type": "code",
   "execution_count": 7,
   "metadata": {},
   "outputs": [],
   "source": [
    "board_states, winners = game._history_to_board_states()"
   ]
  },
  {
   "cell_type": "code",
   "execution_count": 8,
   "metadata": {},
   "outputs": [],
   "source": [
    "def to_categorical(y, num_classes=None, dtype='float64'):\n",
    "  y = np.array(y, dtype='int')\n",
    "  input_shape = y.shape\n",
    "  if input_shape and input_shape[-1] == 1 and len(input_shape) > 1:\n",
    "    input_shape = tuple(input_shape[:-1])\n",
    "  y = y.ravel()\n",
    "  if not num_classes:\n",
    "    num_classes = np.max(y) + 1\n",
    "  n = y.shape[0]\n",
    "  categorical = np.zeros((n, num_classes), dtype=dtype)\n",
    "  categorical[np.arange(n), y] = 1\n",
    "  output_shape = input_shape + (num_classes,)\n",
    "  categorical = np.reshape(categorical, output_shape)\n",
    "  return categorical"
   ]
  },
  {
   "cell_type": "code",
   "execution_count": 9,
   "metadata": {},
   "outputs": [
    {
     "name": "stdout",
     "output_type": "stream",
     "text": [
      "Using cuda device\n",
      "NeuralNetwork(\n",
      "  (flatten): Flatten(start_dim=1, end_dim=-1)\n",
      "  (linear_relu_stack): Sequential(\n",
      "    (0): Linear(in_features=9, out_features=128, bias=True)\n",
      "    (1): ReLU()\n",
      "    (2): Dropout(p=0.2, inplace=False)\n",
      "    (3): Linear(in_features=128, out_features=256, bias=True)\n",
      "    (4): ReLU()\n",
      "    (5): Dropout(p=0.2, inplace=False)\n",
      "    (6): Linear(in_features=256, out_features=128, bias=True)\n",
      "    (7): ReLU()\n",
      "    (8): Dropout(p=0.2, inplace=False)\n",
      "    (9): Linear(in_features=128, out_features=3, bias=True)\n",
      "  )\n",
      ")\n",
      "Epoch 1 loss: 0.9466\n",
      "Epoch 2 loss: 0.8919\n",
      "Epoch 3 loss: 0.8249\n",
      "Epoch 4 loss: 0.8984\n",
      "Epoch 5 loss: 0.7816\n",
      "Epoch 6 loss: 0.8789\n",
      "Epoch 7 loss: 0.9325\n",
      "Epoch 8 loss: 0.9028\n",
      "Epoch 9 loss: 0.9450\n",
      "Epoch 10 loss: 0.7820\n",
      "Epoch 11 loss: 0.7343\n",
      "Epoch 12 loss: 0.7847\n",
      "Epoch 13 loss: 0.7763\n",
      "Epoch 14 loss: 0.9051\n",
      "Epoch 15 loss: 0.7367\n",
      "Epoch 16 loss: 0.7728\n",
      "Epoch 17 loss: 0.8224\n",
      "Epoch 18 loss: 0.7721\n",
      "Epoch 19 loss: 0.7162\n",
      "Epoch 20 loss: 0.8556\n",
      "Epoch 21 loss: 0.7322\n",
      "Epoch 22 loss: 0.7420\n",
      "Epoch 23 loss: 0.8565\n",
      "Epoch 24 loss: 0.8016\n",
      "Epoch 25 loss: 0.6712\n",
      "Epoch 26 loss: 0.5158\n",
      "Epoch 27 loss: 0.7382\n",
      "Epoch 28 loss: 0.6577\n",
      "Epoch 29 loss: 0.6790\n",
      "Epoch 30 loss: 0.7742\n",
      "Epoch 31 loss: 0.7037\n",
      "Epoch 32 loss: 0.7358\n",
      "Epoch 33 loss: 0.6653\n",
      "Epoch 34 loss: 0.6937\n",
      "Epoch 35 loss: 0.7030\n",
      "Epoch 36 loss: 0.5900\n",
      "Epoch 37 loss: 0.6843\n",
      "Epoch 38 loss: 0.7737\n",
      "Epoch 39 loss: 0.6906\n",
      "Epoch 40 loss: 0.7416\n",
      "Epoch 41 loss: 0.7063\n",
      "Epoch 42 loss: 0.6345\n",
      "Epoch 43 loss: 0.6711\n",
      "Epoch 44 loss: 0.7261\n",
      "Epoch 45 loss: 0.7565\n",
      "Epoch 46 loss: 0.7284\n",
      "Epoch 47 loss: 0.5757\n",
      "Epoch 48 loss: 0.7069\n",
      "Epoch 49 loss: 0.6341\n",
      "Epoch 50 loss: 0.9195\n",
      "Epoch 51 loss: 0.7598\n",
      "Epoch 52 loss: 0.6380\n",
      "Epoch 53 loss: 0.6698\n",
      "Epoch 54 loss: 0.6338\n",
      "Epoch 55 loss: 0.6956\n",
      "Epoch 56 loss: 0.6485\n",
      "Epoch 57 loss: 0.6824\n",
      "Epoch 58 loss: 0.6851\n",
      "Epoch 59 loss: 0.8065\n",
      "Epoch 60 loss: 0.8038\n",
      "Epoch 61 loss: 0.8047\n",
      "Epoch 62 loss: 0.7937\n",
      "Epoch 63 loss: 0.6950\n",
      "Epoch 64 loss: 0.8462\n",
      "Epoch 65 loss: 0.7575\n",
      "Epoch 66 loss: 0.7678\n",
      "Epoch 67 loss: 0.8171\n",
      "Epoch 68 loss: 0.6926\n",
      "Epoch 69 loss: 0.8340\n",
      "Epoch 70 loss: 0.5837\n",
      "Epoch 71 loss: 0.7747\n",
      "Epoch 72 loss: 0.7928\n",
      "Epoch 73 loss: 0.6254\n",
      "Epoch 74 loss: 0.7157\n",
      "Epoch 75 loss: 0.6433\n",
      "Epoch 76 loss: 0.6109\n",
      "Epoch 77 loss: 0.7089\n",
      "Epoch 78 loss: 0.7432\n",
      "Epoch 79 loss: 0.7497\n",
      "Epoch 80 loss: 0.7374\n",
      "Epoch 81 loss: 0.7455\n",
      "Epoch 82 loss: 0.8452\n",
      "Epoch 83 loss: 0.7078\n",
      "Epoch 84 loss: 0.6175\n",
      "Epoch 85 loss: 0.6551\n",
      "Epoch 86 loss: 0.6312\n",
      "Epoch 87 loss: 0.6870\n",
      "Epoch 88 loss: 0.6337\n",
      "Epoch 89 loss: 0.7930\n",
      "Epoch 90 loss: 0.7148\n",
      "Epoch 91 loss: 0.6420\n",
      "Epoch 92 loss: 0.5470\n",
      "Epoch 93 loss: 0.6751\n",
      "Epoch 94 loss: 0.6724\n",
      "Epoch 95 loss: 0.7656\n",
      "Epoch 96 loss: 0.7023\n",
      "Epoch 97 loss: 0.6721\n",
      "Epoch 98 loss: 0.7338\n",
      "Epoch 99 loss: 0.7022\n",
      "Epoch 100 loss: 0.6963\n"
     ]
    }
   ],
   "source": [
    "device = \"cuda\" if torch.cuda.is_available() else \"cpu\"\n",
    "print(f\"Using {device} device\")\n",
    "\n",
    "batch_size = 100\n",
    "num_epochs = 100\n",
    "num_classes = 3\n",
    "learning_rate = 0.0001\n",
    "\n",
    "outcome_states = to_categorical(winners, num_classes=num_classes)\n",
    "game_results = noughts_and_crosses.GameResults(board_states, outcome_states)\n",
    "entries = game_results.__len__()\n",
    "\n",
    "train, test = random_split(game_results, [round(entries*0.8),round(entries*0.2)])\n",
    "\n",
    "train_loader = DataLoader(train, batch_size=50, shuffle=True, num_workers=2)\n",
    "test_loader = DataLoader(test, batch_size=50, shuffle=True, num_workers=2)\n",
    "\n",
    "model = noughts_and_crosses.NeuralNetwork().to(device)\n",
    "\n",
    "print(model)\n",
    "\n",
    "loss_fn = nn.CrossEntropyLoss()\n",
    "optimizer = torch.optim.Adam(model.parameters(), lr=learning_rate)\n",
    "\n",
    "for epoch in range(num_epochs):\n",
    "    for batch, data in enumerate(train_loader):\n",
    "        X, y = data['Board state'], data['Outcome state']\n",
    "        X, y = X.to(device), y.to(device)\n",
    "        \n",
    "        pred = model(X)\n",
    "        loss = loss_fn(pred, y)\n",
    "\n",
    "        optimizer.zero_grad()\n",
    "        loss.backward()\n",
    "        optimizer.step()\n",
    "        \n",
    "    print(f\"Epoch {epoch+1} loss: {loss:.4f}\")"
   ]
  },
  {
   "cell_type": "code",
   "execution_count": 10,
   "metadata": {},
   "outputs": [
    {
     "name": "stdout",
     "output_type": "stream",
     "text": [
      "The model was accurate 67.09% of the time.\n"
     ]
    }
   ],
   "source": [
    "model.eval()\n",
    "predictions = []\n",
    "actual_winners = []\n",
    "\n",
    "for batch, data in enumerate(test_loader):\n",
    "    X, y = data['Board state'], data['Outcome state']\n",
    "    X, y = X.to(device), y.to(device)\n",
    "    \n",
    "    pred = model(X)\n",
    "    predictions.extend(pred.argmax(dim = -1).tolist())\n",
    "    actual_winners.extend(y.argmax(dim= -1).tolist())\n",
    "\n",
    "model_accuracy = accuracy_score(actual_winners, predictions)\n",
    "print(f'The model was accurate {model_accuracy*100:.2f}% of the time.')"
   ]
  },
  {
   "cell_type": "code",
   "execution_count": 11,
   "metadata": {},
   "outputs": [],
   "source": [
    "game.clear_board()"
   ]
  },
  {
   "cell_type": "code",
   "execution_count": 12,
   "metadata": {},
   "outputs": [
    {
     "data": {
      "text/plain": [
       "array([[0, 0, 0],\n",
       "       [0, 0, 0],\n",
       "       [0, 0, 0]])"
      ]
     },
     "execution_count": 12,
     "metadata": {},
     "output_type": "execute_result"
    }
   ],
   "source": [
    "game.board"
   ]
  },
  {
   "cell_type": "code",
   "execution_count": 13,
   "metadata": {},
   "outputs": [
    {
     "data": {
      "text/plain": [
       "array([1, 1], dtype=int64)"
      ]
     },
     "execution_count": 13,
     "metadata": {},
     "output_type": "execute_result"
    }
   ],
   "source": [
    "game._best_move(player=1, model=model)"
   ]
  },
  {
   "cell_type": "code",
   "execution_count": null,
   "metadata": {},
   "outputs": [],
   "source": []
  }
 ],
 "metadata": {
  "interpreter": {
   "hash": "9286ebc05471347f2bd52e3bb6ef712e967a37f3215cc99519cb93963531f6a6"
  },
  "kernelspec": {
   "display_name": "Python 3.8.8 ('.venv': pipenv)",
   "language": "python",
   "name": "python3"
  },
  "language_info": {
   "codemirror_mode": {
    "name": "ipython",
    "version": 3
   },
   "file_extension": ".py",
   "mimetype": "text/x-python",
   "name": "python",
   "nbconvert_exporter": "python",
   "pygments_lexer": "ipython3",
   "version": "3.8.8"
  },
  "orig_nbformat": 4
 },
 "nbformat": 4,
 "nbformat_minor": 2
}
